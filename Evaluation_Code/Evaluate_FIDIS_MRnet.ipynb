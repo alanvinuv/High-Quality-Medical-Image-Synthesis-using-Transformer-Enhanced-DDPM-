{
 "cells": [
  {
   "cell_type": "markdown",
   "id": "9e474bc8",
   "metadata": {},
   "source": [
    "# Evaluation of Cascaded Super-Resolution Models Against Direct 256x256 DDPM Model Using FID and Inception Score\n",
    "\n",
    "This notebook is designed to assess the performance of cascaded super-resolution (SR) models, both with and without the Swin Transformer, against a DDPM model trained directly on 256x256 images. The evaluation employs two key metrics: Frechet Inception Distance (FID) and Inception Score (IS). FID is used to measure the similarity between the generated images and real images, where a lower FID score indicates higher quality and greater similarity. Inception Score, on the other hand, evaluates the diversity and quality of generated images, with a higher score indicating better performance.\n",
    "\n",
    "The code compares the SR models' performance by computing the FID score between real and generated images and the Inception Score for the generated images. This comparison helps in understanding the effectiveness of SR models with and without Swin Transformer integration, relative to a direct DDPM model trained on high-resolution images.\n"
   ]
  },
  {
   "cell_type": "markdown",
   "id": "3e3a9c04",
   "metadata": {},
   "source": [
    "### IMPORTING LIBRARIES"
   ]
  },
  {
   "cell_type": "code",
   "execution_count": 1,
   "id": "f8f677ff-0059-4f9e-a7bc-d8f41540e80b",
   "metadata": {},
   "outputs": [],
   "source": [
    "import torch\n",
    "import numpy as np\n",
    "import os\n",
    "import pandas as pd\n",
    "from PIL import Image\n",
    "import matplotlib.pyplot as plt\n",
    "import torch.nn.functional as F\n",
    "from torch.utils.data import DataLoader, Dataset, Subset\n",
    "from torchvision import transforms, models\n",
    "from torchmetrics.image.fid import FrechetInceptionDistance\n",
    "from torchmetrics.image.inception import InceptionScore"
   ]
  },
  {
   "cell_type": "markdown",
   "id": "b298929e",
   "metadata": {},
   "source": [
    "### FID Score"
   ]
  },
  {
   "cell_type": "code",
   "execution_count": null,
   "id": "510d003a",
   "metadata": {},
   "outputs": [],
   "source": [
    "\n",
    "\n",
    "def to_uint8(tensor):\n",
    "    return (tensor * 255).byte()\n",
    "\n",
    "class ImageDataset(Dataset):\n",
    "    def __init__(self, image_dir, device):\n",
    "        self.image_dir = image_dir\n",
    "        self.image_files = [os.path.join(image_dir, file) for file in os.listdir(image_dir) if file.endswith(('png', 'jpg', 'jpeg'))]\n",
    "        self.device = device\n",
    "        self.transform = transforms.Compose([\n",
    "            transforms.Resize((299, 299)),\n",
    "            transforms.ToTensor(),\n",
    "            transforms.Lambda(to_uint8)  # Convert to uint8\n",
    "        ])\n",
    "\n",
    "    def __len__(self):\n",
    "        return len(self.image_files)\n",
    "\n",
    "    def __getitem__(self, idx):\n",
    "        img_path = self.image_files[idx]\n",
    "        img = Image.open(img_path).convert('RGB')\n",
    "        img = self.transform(img)\n",
    "        return img.to(self.device)\n",
    "\n",
    "# Directories containing the images\n",
    "real_images_dir = \"Raw_Images/valid_slices_raw\"\n",
    "generated_images_dir = \"generated_images\"\n",
    "if __name__ == '__main__':\n",
    "    # Move to the appropriate device (GPU or CPU)\n",
    "    device = torch.device('cuda' if torch.cuda.is_available() else 'cpu')\n",
    "\n",
    "    # Create Dataset and DataLoader for real and generated images\n",
    "    real_dataset = ImageDataset(real_images_dir, device)\n",
    "    generated_dataset = ImageDataset(generated_images_dir, device)\n",
    "\n",
    "    real_dataloader = DataLoader(real_dataset, batch_size=16, shuffle=True, num_workers=0)\n",
    "    generated_dataloader = DataLoader(generated_dataset, batch_size=16, shuffle=False, num_workers=0)\n",
    "\n",
    "    # Initialize FID metric\n",
    "    fid = FrechetInceptionDistance(feature=2048, normalize=True)\n",
    "    fid = fid.to(device)\n",
    "\n",
    "    # Function to compute FID score\n",
    "    def compute_fid(dataloader, real=True):\n",
    "        for batch in dataloader:\n",
    "            fid.update(batch, real=real)\n",
    "\n",
    "    # Compute FID score\n",
    "    fid.reset()\n",
    "    compute_fid(generated_dataloader, real=False)\n",
    "    compute_fid(real_dataloader, real=True)\n",
    "\n",
    "    fid_value = fid.compute()\n",
    "    print('FID:', fid_value)"
   ]
  },
  {
   "cell_type": "markdown",
   "id": "89ac1071",
   "metadata": {},
   "source": [
    "### IS Score"
   ]
  },
  {
   "cell_type": "code",
   "execution_count": null,
   "id": "aca61c30",
   "metadata": {},
   "outputs": [],
   "source": [
    "# Directories containing the generated images\n",
    "generated_images_dir = \"generated_images\"\n",
    "\n",
    "if __name__ == '__main__':\n",
    "    # Move to the appropriate device (GPU or CPU)\n",
    "    device = torch.device('cuda' if torch.cuda.is_available() else 'cpu')\n",
    "\n",
    "    # Create Dataset and DataLoader for generated images\n",
    "    generated_dataset = ImageDataset(generated_images_dir, device)\n",
    "    generated_dataloader = DataLoader(generated_dataset, batch_size=16, shuffle=False, num_workers=0)\n",
    "\n",
    "    # Check the number of generated images\n",
    "    num_generated_images = len(generated_dataset)\n",
    "    print(f'Number of generated images: {num_generated_images}')\n",
    "\n",
    "    # # Display a few generated images\n",
    "    # fig, axes = plt.subplots(1, 5, figsize=(15, 5))\n",
    "    # for i, ax in enumerate(axes.flat):\n",
    "    #     img = generated_dataset[i].cpu().permute(1, 2, 0).numpy().astype('uint8')\n",
    "    #     ax.imshow(img)\n",
    "    #     ax.axis('off')\n",
    "    # plt.show()\n",
    "\n",
    "    # Initialize Inception Score metric\n",
    "    inception_score = InceptionScore().to(device)\n",
    "\n",
    "    # Compute Inception Score in chunks\n",
    "    chunk_size = 100 \n",
    "    for i in range(0, len(generated_dataset), chunk_size):\n",
    "        chunk_indices = list(range(i, min(i + chunk_size, len(generated_dataset))))\n",
    "        chunk_subset = Subset(generated_dataset, chunk_indices)\n",
    "        chunk_dataloader = DataLoader(chunk_subset, batch_size=16, shuffle=False, num_workers=0)\n",
    "        for batch in chunk_dataloader:\n",
    "            inception_score.update(batch)\n",
    "\n",
    "    # Get the Inception Score\n",
    "    is_mean, is_std = inception_score.compute()\n",
    "    print(f'Inception Score: Mean = {is_mean}, Std = {is_std}')\n"
   ]
  }
 ],
 "metadata": {
  "kernelspec": {
   "display_name": "Python",
   "language": "python",
   "name": "sys_python"
  },
  "language_info": {
   "codemirror_mode": {
    "name": "ipython",
    "version": 3
   },
   "file_extension": ".py",
   "mimetype": "text/x-python",
   "name": "python",
   "nbconvert_exporter": "python",
   "pygments_lexer": "ipython3",
   "version": "3.10.4"
  }
 },
 "nbformat": 4,
 "nbformat_minor": 5
}
